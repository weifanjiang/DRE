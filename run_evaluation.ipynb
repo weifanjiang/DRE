{
 "cells": [
  {
   "cell_type": "markdown",
   "metadata": {},
   "source": [
    "# run evaluations"
   ]
  },
  {
   "cell_type": "code",
   "execution_count": 1,
   "metadata": {},
   "outputs": [
    {
     "name": "stderr",
     "output_type": "stream",
     "text": [
      "OMP: Info #276: omp_set_nested routine deprecated, please use omp_set_max_active_levels instead.\n"
     ]
    }
   ],
   "source": [
    "from automl_evaluator import *\n",
    "from utils import *"
   ]
  },
  {
   "cell_type": "code",
   "execution_count": 2,
   "metadata": {},
   "outputs": [
    {
     "name": "stdout",
     "output_type": "stream",
     "text": [
      "data/gcut/automl_eval/ColSampling_None_col-0.6-smf-fbs_sec2.json\n",
      "data/gcut/automl_eval/ColSampling_None_col-0.4-smf-fbs_sec2.json\n",
      "data/gcut/automl_eval/ColSampling_None_col-0.6-smf-fls_sec2.json\n",
      "data/gcut/automl_eval/RowAgg_None_row-IncidentId-1_sec23.json\n",
      "data/gcut/automl_eval/ColSampling_None_col-0.8-smf-fbs_sec2.json\n",
      "data/gcut/automl_eval/ColSampling_None_col-0.4-smf-fls_sec1.json\n",
      "data/gcut/automl_eval/ColSampling_None_col-0.2-smf-fbs_sec2.json\n",
      "data/gcut/automl_eval/RowAgg_None_row-IncidentId-3_sec647.json\n",
      "data/gcut/automl_eval/ColSampling_None_col-0.2-smf-fls_sec2.json\n",
      "data/gcut/automl_eval/ColSampling_None_col-0.8-smf-fls_sec2.json\n",
      "data/gcut/automl_eval/RowAgg_None_row-IncidentId-2_sec435.json\n"
     ]
    }
   ],
   "source": [
    "gcut_eval_dir = os.path.join(gcut_data_dir, \"automl_eval\")\n",
    "_ = os.system(\"mkdir -p {}\".format(gcut_eval_dir))\n",
    "\n",
    "naive_one_hop = \"data/gcut/gcut_unstructured_reduction/one_hop\"\n",
    "reduced_instances = [x for x in os.listdir(naive_one_hop) if x.endswith(\".pickle\")]\n",
    "\n",
    "for red in reduced_instances:\n",
    "    out_path = os.path.join(gcut_eval_dir, red.replace(\"pickle\", \"json\"))\n",
    "    print(out_path)\n",
    "\n",
    "    if os.path.isfile(out_path):\n",
    "        continue\n",
    "    else:\n",
    "        print(gcut_evaluator(\n",
    "            os.path.join(naive_one_hop, red),\n",
    "            out_path\n",
    "        )['balanced_accuracy'])"
   ]
  },
  {
   "cell_type": "code",
   "execution_count": 3,
   "metadata": {},
   "outputs": [
    {
     "name": "stdout",
     "output_type": "stream",
     "text": [
      "data/gcut/automl_eval/RowAgg_None_row-IncidentId-1_sec23&ColSampling_None_col-0.8-smf-fbs_sec1.json\n",
      "data/gcut/automl_eval/RowAgg_None_row-IncidentId-2_sec435&ColSampling_None_col-0.4-ssp-leverage_sec291.json\n",
      "data/gcut/automl_eval/RowAgg_None_row-IncidentId-1_sec23&ColSampling_None_col-0.2-smf-fbs_sec2.json\n",
      "data/gcut/automl_eval/RowAgg_None_row-IncidentId-1_sec23&ColSampling_None_col-0.2-ssp-doublePhase_sec163.json\n",
      "data/gcut/automl_eval/RowAgg_None_row-IncidentId-1_sec23&ColSampling_None_col-0.6-smf-fbs_sec1.json\n",
      "data/gcut/automl_eval/RowAgg_None_row-IncidentId-1_sec23&ColSampling_None_col-0.8-ssp-leverage_sec163.json\n",
      "data/gcut/automl_eval/RowAgg_None_row-IncidentId-3_sec647&ColSampling_None_col-0.8-smf-fbs_sec2.json\n",
      "data/gcut/automl_eval/RowAgg_None_row-IncidentId-3_sec647&ColSampling_None_col-0.6-smf-fls_sec2.json\n",
      "data/gcut/automl_eval/RowAgg_None_row-IncidentId-2_sec435&ColSampling_None_col-0.8-ssp-doublePhase_sec290.json\n",
      "data/gcut/automl_eval/RowAgg_None_row-IncidentId-3_sec647&ColSampling_None_col-0.6-ssp-leverage_sec354.json\n",
      "data/gcut/automl_eval/RowAgg_None_row-IncidentId-1_sec23&ColSampling_None_col-0.4-smf-fbs_sec1.json\n",
      "data/gcut/automl_eval/RowAgg_None_row-IncidentId-2_sec435&ColSampling_None_col-0.4-smf-fls_sec1.json\n",
      "data/gcut/automl_eval/RowAgg_None_row-IncidentId-2_sec435&ColSampling_None_col-0.8-ssp-leverage_sec291.json\n",
      "data/gcut/automl_eval/RowAgg_None_row-IncidentId-2_sec435&ColSampling_None_col-0.6-smf-fbs_sec1.json\n",
      "data/gcut/automl_eval/RowAgg_None_row-IncidentId-3_sec647&ColSampling_None_col-0.8-ssp-doublePhase_sec354.json\n",
      "data/gcut/automl_eval/RowAgg_None_row-IncidentId-1_sec23&ColSampling_None_col-0.4-ssp-doublePhase_sec163.json\n",
      "data/gcut/automl_eval/RowAgg_None_row-IncidentId-3_sec647&ColSampling_None_col-0.4-smf-fls_sec1.json\n",
      "data/gcut/automl_eval/RowAgg_None_row-IncidentId-3_sec647&ColSampling_None_col-0.8-smf-fls_sec2.json\n",
      "data/gcut/automl_eval/RowAgg_None_row-IncidentId-3_sec647&ColSampling_None_col-0.2-ssp-doublePhase_sec353.json\n",
      "data/gcut/automl_eval/RowAgg_None_row-IncidentId-3_sec647&ColSampling_None_col-0.4-ssp-doublePhase_sec355.json\n",
      "data/gcut/automl_eval/RowAgg_None_row-IncidentId-1_sec23&ColSampling_None_col-0.4-ssp-leverage_sec163.json\n",
      "data/gcut/automl_eval/RowAgg_None_row-IncidentId-2_sec435&ColSampling_None_col-0.4-ssp-doublePhase_sec290.json\n",
      "data/gcut/automl_eval/RowAgg_None_row-IncidentId-3_sec647&ColSampling_None_col-0.4-smf-fbs_sec1.json\n",
      "data/gcut/automl_eval/RowAgg_None_row-IncidentId-2_sec435&ColSampling_None_col-0.6-ssp-doublePhase_sec290.json\n",
      "data/gcut/automl_eval/RowAgg_None_row-IncidentId-2_sec435&ColSampling_None_col-0.2-smf-fls_sec1.json\n",
      "data/gcut/automl_eval/RowAgg_None_row-IncidentId-1_sec23&ColSampling_None_col-0.8-smf-fls_sec1.json\n",
      "data/gcut/automl_eval/RowAgg_None_row-IncidentId-1_sec23&ColSampling_None_col-0.8-ssp-doublePhase_sec163.json\n",
      "data/gcut/automl_eval/RowAgg_None_row-IncidentId-2_sec435&ColSampling_None_col-0.8-smf-fls_sec2.json\n",
      "data/gcut/automl_eval/RowAgg_None_row-IncidentId-3_sec647&ColSampling_None_col-0.8-ssp-leverage_sec353.json\n",
      "data/gcut/automl_eval/RowAgg_None_row-IncidentId-2_sec435&ColSampling_None_col-0.2-ssp-leverage_sec290.json\n",
      "data/gcut/automl_eval/RowAgg_None_row-IncidentId-1_sec23&ColSampling_None_col-0.2-smf-fls_sec2.json\n",
      "data/gcut/automl_eval/RowAgg_None_row-IncidentId-3_sec647&ColSampling_None_col-0.2-smf-fbs_sec1.json\n",
      "data/gcut/automl_eval/RowAgg_None_row-IncidentId-1_sec23&ColSampling_None_col-0.6-ssp-doublePhase_sec163.json\n",
      "data/gcut/automl_eval/RowAgg_None_row-IncidentId-1_sec23&ColSampling_None_col-0.4-smf-fls_sec1.json\n",
      "data/gcut/automl_eval/RowAgg_None_row-IncidentId-2_sec435&ColSampling_None_col-0.8-smf-fbs_sec2.json\n",
      "data/gcut/automl_eval/RowAgg_None_row-IncidentId-3_sec647&ColSampling_None_col-0.2-smf-fls_sec1.json\n",
      "data/gcut/automl_eval/RowAgg_None_row-IncidentId-1_sec23&ColSampling_None_col-0.2-ssp-leverage_sec163.json\n",
      "data/gcut/automl_eval/RowAgg_None_row-IncidentId-1_sec23&ColSampling_None_col-0.6-smf-fls_sec1.json\n",
      "data/gcut/automl_eval/RowAgg_None_row-IncidentId-2_sec435&ColSampling_None_col-0.2-smf-fbs_sec1.json\n",
      "data/gcut/automl_eval/RowAgg_None_row-IncidentId-1_sec23&ColSampling_None_col-0.6-ssp-leverage_sec163.json\n",
      "data/gcut/automl_eval/RowAgg_None_row-IncidentId-2_sec435&ColSampling_None_col-0.6-ssp-leverage_sec290.json\n",
      "data/gcut/automl_eval/RowAgg_None_row-IncidentId-3_sec647&ColSampling_None_col-0.6-smf-fbs_sec2.json\n",
      "data/gcut/automl_eval/RowAgg_None_row-IncidentId-2_sec435&ColSampling_None_col-0.4-smf-fbs_sec1.json\n",
      "data/gcut/automl_eval/RowAgg_None_row-IncidentId-3_sec647&ColSampling_None_col-0.6-ssp-doublePhase_sec353.json\n",
      "data/gcut/automl_eval/RowAgg_None_row-IncidentId-3_sec647&ColSampling_None_col-0.4-ssp-leverage_sec354.json\n",
      "data/gcut/automl_eval/RowAgg_None_row-IncidentId-2_sec435&ColSampling_None_col-0.2-ssp-doublePhase_sec290.json\n",
      "data/gcut/automl_eval/RowAgg_None_row-IncidentId-2_sec435&ColSampling_None_col-0.6-smf-fls_sec1.json\n",
      "data/gcut/automl_eval/RowAgg_None_row-IncidentId-3_sec647&ColSampling_None_col-0.2-ssp-leverage_sec353.json\n"
     ]
    }
   ],
   "source": [
    "gcut_eval_dir = os.path.join(gcut_data_dir, \"automl_eval\")\n",
    "_ = os.system(\"mkdir -p {}\".format(gcut_eval_dir))\n",
    "\n",
    "naive_two_hop = \"data/gcut/gcut_unstructured_reduction/two_hop\"\n",
    "reduced_instances = [x for x in os.listdir(naive_two_hop) if x.endswith(\".pickle\")]\n",
    "\n",
    "for red in reduced_instances:\n",
    "    if (\"RowSampling\" not in red) or (\"ssp\" not in red):\n",
    "        out_path = os.path.join(gcut_eval_dir, red.replace(\"pickle\", \"json\"))\n",
    "        print(out_path)\n",
    "\n",
    "        if os.path.isfile(out_path):\n",
    "            continue\n",
    "        else:\n",
    "            try:\n",
    "                print(gcut_evaluator(\n",
    "                    os.path.join(naive_two_hop, red),\n",
    "                    out_path\n",
    "                )['balanced_accuracy'])\n",
    "            except:\n",
    "                continue"
   ]
  }
 ],
 "metadata": {
  "kernelspec": {
   "display_name": "Python 3.9.7 ('redeng')",
   "language": "python",
   "name": "python3"
  },
  "language_info": {
   "codemirror_mode": {
    "name": "ipython",
    "version": 3
   },
   "file_extension": ".py",
   "mimetype": "text/x-python",
   "name": "python",
   "nbconvert_exporter": "python",
   "pygments_lexer": "ipython3",
   "version": "3.9.7"
  },
  "orig_nbformat": 4,
  "vscode": {
   "interpreter": {
    "hash": "3cb91839837c12cfcee7277f5c3320ca38bd1b0df530efe2c625284ea85332e0"
   }
  }
 },
 "nbformat": 4,
 "nbformat_minor": 2
}
